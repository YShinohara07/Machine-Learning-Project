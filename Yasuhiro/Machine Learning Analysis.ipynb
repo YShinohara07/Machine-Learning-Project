{
 "cells": [
  {
   "cell_type": "markdown",
   "metadata": {},
   "source": [
    "# Iowa Analysis using Machine Learning Techniques"
   ]
  },
  {
   "cell_type": "markdown",
   "metadata": {},
   "source": [
    "## Table of Contents\n",
    "- Model Settings\n",
    "- Linear Regression\n",
    "- Logistic Regression\n",
    "- Decision Tree\n",
    "- Penalized Linear Regression\n",
    "    - Visualizing Ridge\n",
    "    - Visualizing Lasso\n",
    "    - Visualizing Elastic Net\n",
    "- RandomForest"
   ]
  },
  {
   "cell_type": "markdown",
   "metadata": {},
   "source": [
    "### Model Settings"
   ]
  },
  {
   "cell_type": "code",
   "execution_count": 1,
   "metadata": {
    "scrolled": true
   },
   "outputs": [],
   "source": [
    "import numpy as np\n",
    "import pandas as pd\n",
    "\n",
    "import matplotlib.pyplot as plt\n",
    "import seaborn as sns\n",
    "\n",
    "%matplotlib inline"
   ]
  },
  {
   "cell_type": "code",
   "execution_count": 13,
   "metadata": {},
   "outputs": [],
   "source": [
    "# Numerical and Catagorical Data\n",
    "r_df = pd.read_csv('output_df_train_V2.csv')\n",
    "r_mo = pd.read_csv('output_df_test.csv')\n",
    "\n",
    "# Numerical (Catagorical data dummified)\n",
    "df = pd.read_csv('output_df2_train.csv')\n",
    "mo = pd.read_csv('output_df2_test.csv')"
   ]
  },
  {
   "cell_type": "code",
   "execution_count": 14,
   "metadata": {},
   "outputs": [
    {
     "name": "stdout",
     "output_type": "stream",
     "text": [
      "train columns 79\n",
      "test columns 79\n",
      "Column number and name of train.csv\n",
      "0 Id: matches\n",
      "1 MSSubClass: matches\n",
      "2 LotFrontage: matches\n",
      "3 LotArea: matches\n",
      "4 OverallQual: matches\n",
      "5 MasVnrArea: matches\n",
      "6 BsmtFinSF1: matches\n",
      "7 TotalBsmtSF: matches\n",
      "8 X1stFlrSF: matches\n",
      "9 X2ndFlrSF: matches\n",
      "10 GrLivArea: matches\n",
      "11 FullBath: matches\n",
      "12 BedroomAbvGr: matches\n",
      "13 TotRmsAbvGrd: matches\n",
      "14 GarageYrBlt: matches\n",
      "15 GarageCars: matches\n",
      "16 GarageArea: matches\n",
      "17 SoldAfterBuilt: matches\n",
      "18 TotalBath: matches\n",
      "19 FrontAreaSF: matches\n",
      "20 MSZoning_FV: matches\n",
      "21 MSZoning_RH: matches\n",
      "22 MSZoning_RL: matches\n",
      "23 LotShape_IR2: matches\n",
      "24 LotShape_Reg: matches\n",
      "25 LandContour_HLS: matches\n",
      "26 LandContour_Low: matches\n",
      "27 LandContour_Lvl: matches\n",
      "28 Neighborhood_B: matches\n",
      "29 Neighborhood_C: matches\n",
      "30 Neighborhood_D: matches\n",
      "31 Neighborhood_E: matches\n",
      "32 Neighborhood_F: matches\n",
      "33 BldgType_B: matches\n",
      "34 BldgType_C: matches\n",
      "35 HouseStyle_B: matches\n",
      "36 HouseStyle_C: matches\n",
      "37 Exterior1st_B: matches\n",
      "38 Exterior1st_C: matches\n",
      "39 Exterior1st_D: matches\n",
      "40 Exterior1st_E: matches\n",
      "41 Exterior2nd_B: matches\n",
      "42 Exterior2nd_C: matches\n",
      "43 MasVnrType_BrkFace: matches\n",
      "44 MasVnrType_None: matches\n",
      "45 MasVnrType_Stone: matches\n",
      "46 ExterQual_Fa: matches\n",
      "47 ExterQual_Gd: matches\n",
      "48 ExterQual_TA: matches\n",
      "49 Foundation_B: matches\n",
      "50 BsmtQual_Fa: matches\n",
      "51 BsmtQual_Gd: matches\n",
      "52 BsmtQual_TA: matches\n",
      "53 BsmtExposure_Gd: matches\n",
      "54 BsmtExposure_Mn: matches\n",
      "55 BsmtExposure_No: matches\n",
      "56 BsmtExposure_NoBasement: matches\n",
      "57 BsmtFinType1_B: matches\n",
      "58 BsmtFinType1_No Basement: matches\n",
      "59 HeatingQC_Excellent: matches\n",
      "60 HeatingQC_Good: matches\n",
      "61 CentralAir_Y: matches\n",
      "62 Electrical_B: matches\n",
      "63 KitchenQual_Fa: matches\n",
      "64 KitchenQual_Gd: matches\n",
      "65 KitchenQual_TA: matches\n",
      "66 Fireplaces_Yes: matches\n",
      "67 GarageType_Attchd: matches\n",
      "68 GarageType_Basment: matches\n",
      "69 GarageType_BuiltIn: matches\n",
      "70 GarageType_CarPort: matches\n",
      "71 GarageType_Detchd: matches\n",
      "72 GarageType_No Garage: matches\n",
      "73 GarageFinish_No Garage: matches\n",
      "74 GarageFinish_RFn: matches\n",
      "75 GarageFinish_Unf: matches\n",
      "76 PavedDrive_Paved: matches\n",
      "77 X2ndFlrYN_Yes: matches\n",
      "78 HalfBathYN_Yes: matches\n",
      "train columns 79\n",
      "test columns 79\n"
     ]
    }
   ],
   "source": [
    "# Columns must match. Use this to confirm\n",
    "\n",
    "df1 = df.copy()\n",
    "df1 = df1.drop(['SalePrice'], axis = 1)\n",
    "\n",
    "mo1 = mo.copy()\n",
    "#mo1 = mo1.drop(['MSZoning_Other'], axis= 1)\n",
    "\n",
    "print('train columns', df1.shape[1])\n",
    "print('test columns\\n', mo1.shape[1])\n",
    "print('Column number and name of train.csv')\n",
    "\n",
    "for i in range( df1.columns.shape[0]):\n",
    "#for i in range( df1.columns.shape[0]-1,0,-1 ):\n",
    "    if df1.columns[i] in mo1.columns:\n",
    "        print(i,'{}: matches'.format(df1.columns[i]) )\n",
    "    else:\n",
    "        print(i,'{}: train csv'.format(df1.columns[i]) ,df1.columns[i], 'not found in test csv')\n",
    "        mo1 = mo1.drop([mo1.columns[i] ], axis = 1)\n",
    "        print('{} dropped'.format(df1.columns[i]) )\n",
    "\n",
    "print('train columns', df1.shape[1])\n",
    "print('test columns', mo1.shape[1])"
   ]
  },
  {
   "cell_type": "code",
   "execution_count": 15,
   "metadata": {},
   "outputs": [],
   "source": [
    "# Settings for train X and Y\n",
    "drop = ['Id','SalePrice']\n",
    "\n",
    "x = df.drop(drop,axis =1)\n",
    "y = df.SalePrice"
   ]
  },
  {
   "cell_type": "code",
   "execution_count": 25,
   "metadata": {},
   "outputs": [],
   "source": [
    "# Settings for test.csv X \n",
    "testX = mo.drop(['Id'], axis = 1)"
   ]
  },
  {
   "cell_type": "code",
   "execution_count": 17,
   "metadata": {},
   "outputs": [
    {
     "name": "stdout",
     "output_type": "stream",
     "text": [
      "(1450, 78)\n",
      "(1459, 78)\n"
     ]
    }
   ],
   "source": [
    "print(x.shape)\n",
    "print(testX.shape)"
   ]
  },
  {
   "cell_type": "code",
   "execution_count": 18,
   "metadata": {},
   "outputs": [],
   "source": [
    "# split the train data (total observation) to test/train by 30/70 \n",
    "nrow = x.shape[0]\n",
    "third_nrow = int(nrow *.3)\n",
    "\n",
    "np.random.seed(1)\n",
    "testIdx = np.random.choice(range(nrow), size=third_nrow, replace=False)\n",
    "trainIdx = list(set(range(nrow))-set(testIdx))\n",
    "\n",
    "trainX1 = x.iloc[trainIdx]\n",
    "trainY1 = y.iloc[trainIdx]\n",
    "\n",
    "testX1 = x.iloc[testIdx]\n",
    "testY1 = y.iloc[testIdx]"
   ]
  },
  {
   "cell_type": "code",
   "execution_count": 19,
   "metadata": {},
   "outputs": [],
   "source": [
    "# Another method to split data\n",
    "from sklearn.model_selection import train_test_split"
   ]
  },
  {
   "cell_type": "code",
   "execution_count": 31,
   "metadata": {},
   "outputs": [],
   "source": [
    "X_train, X_test, Y_train, Y_test = train_test_split(x, y, test_size = 0.33, random_state = 1)"
   ]
  },
  {
   "cell_type": "markdown",
   "metadata": {},
   "source": [
    "### Linear Regression"
   ]
  },
  {
   "cell_type": "code",
   "execution_count": 21,
   "metadata": {},
   "outputs": [],
   "source": [
    "from sklearn.linear_model import LinearRegression"
   ]
  },
  {
   "cell_type": "code",
   "execution_count": 26,
   "metadata": {},
   "outputs": [],
   "source": [
    "lm = LinearRegression()"
   ]
  },
  {
   "cell_type": "code",
   "execution_count": 59,
   "metadata": {},
   "outputs": [
    {
     "data": {
      "text/plain": [
       "LinearRegression(copy_X=True, fit_intercept=True, n_jobs=None, normalize=False)"
      ]
     },
     "execution_count": 59,
     "metadata": {},
     "output_type": "execute_result"
    }
   ],
   "source": [
    "lm.fit(X_train, Y_train)"
   ]
  },
  {
   "cell_type": "code",
   "execution_count": 60,
   "metadata": {
    "scrolled": true
   },
   "outputs": [
    {
     "name": "stdout",
     "output_type": "stream",
     "text": [
      "0.9040489926609141\n"
     ]
    }
   ],
   "source": [
    "# Linear regression Analysis\n",
    "lm.coef_\n",
    "lm.intercept_\n",
    "print (lm.score(X_test, Y_test) )#R2"
   ]
  },
  {
   "cell_type": "code",
   "execution_count": 74,
   "metadata": {},
   "outputs": [
    {
     "data": {
      "text/plain": [
       "LinearRegression(copy_X=True, fit_intercept=True, n_jobs=None, normalize=False)"
      ]
     },
     "execution_count": 74,
     "metadata": {},
     "output_type": "execute_result"
    }
   ],
   "source": [
    "lm.fit(x, y)"
   ]
  },
  {
   "cell_type": "code",
   "execution_count": 110,
   "metadata": {},
   "outputs": [
    {
     "data": {
      "text/html": [
       "<div>\n",
       "<style scoped>\n",
       "    .dataframe tbody tr th:only-of-type {\n",
       "        vertical-align: middle;\n",
       "    }\n",
       "\n",
       "    .dataframe tbody tr th {\n",
       "        vertical-align: top;\n",
       "    }\n",
       "\n",
       "    .dataframe thead th {\n",
       "        text-align: right;\n",
       "    }\n",
       "</style>\n",
       "<table border=\"1\" class=\"dataframe\">\n",
       "  <thead>\n",
       "    <tr style=\"text-align: right;\">\n",
       "      <th></th>\n",
       "      <th>Id</th>\n",
       "      <th>SalePrice</th>\n",
       "    </tr>\n",
       "  </thead>\n",
       "  <tbody>\n",
       "    <tr>\n",
       "      <th>0</th>\n",
       "      <td>1461</td>\n",
       "      <td>121481.972573</td>\n",
       "    </tr>\n",
       "    <tr>\n",
       "      <th>1</th>\n",
       "      <td>1462</td>\n",
       "      <td>171429.283921</td>\n",
       "    </tr>\n",
       "    <tr>\n",
       "      <th>2</th>\n",
       "      <td>1463</td>\n",
       "      <td>179517.643939</td>\n",
       "    </tr>\n",
       "    <tr>\n",
       "      <th>3</th>\n",
       "      <td>1464</td>\n",
       "      <td>193112.630899</td>\n",
       "    </tr>\n",
       "    <tr>\n",
       "      <th>4</th>\n",
       "      <td>1465</td>\n",
       "      <td>211238.220150</td>\n",
       "    </tr>\n",
       "  </tbody>\n",
       "</table>\n",
       "</div>"
      ],
      "text/plain": [
       "     Id      SalePrice\n",
       "0  1461  121481.972573\n",
       "1  1462  171429.283921\n",
       "2  1463  179517.643939\n",
       "3  1464  193112.630899\n",
       "4  1465  211238.220150"
      ]
     },
     "execution_count": 110,
     "metadata": {},
     "output_type": "execute_result"
    }
   ],
   "source": [
    "Answer = lm.predict(testX)\n",
    "lm_submission = pd.DataFrame( {'Id' : mo.Id, 'SalePrice': Answer})\n",
    "lm_submission.head()"
   ]
  },
  {
   "cell_type": "code",
   "execution_count": 111,
   "metadata": {},
   "outputs": [
    {
     "data": {
      "text/plain": [
       "array([121481.97257313, 171429.28392088, 179517.643939  , ...,\n",
       "       169499.68439714, 117077.22469567, 220044.22478513])"
      ]
     },
     "execution_count": 111,
     "metadata": {},
     "output_type": "execute_result"
    }
   ],
   "source": [
    "Answer"
   ]
  },
  {
   "cell_type": "code",
   "execution_count": null,
   "metadata": {},
   "outputs": [],
   "source": [
    "submission.to_csv('submission.csv', index = False)"
   ]
  },
  {
   "cell_type": "markdown",
   "metadata": {},
   "source": [
    "### Logistic Regression"
   ]
  },
  {
   "cell_type": "code",
   "execution_count": 63,
   "metadata": {},
   "outputs": [],
   "source": [
    "from sklearn.linear_model import LogisticRegression"
   ]
  },
  {
   "cell_type": "code",
   "execution_count": 64,
   "metadata": {},
   "outputs": [],
   "source": [
    "log = LogisticRegression()"
   ]
  },
  {
   "cell_type": "code",
   "execution_count": 65,
   "metadata": {},
   "outputs": [
    {
     "name": "stderr",
     "output_type": "stream",
     "text": [
      "/opt/anaconda3/lib/python3.7/site-packages/sklearn/linear_model/logistic.py:432: FutureWarning: Default solver will be changed to 'lbfgs' in 0.22. Specify a solver to silence this warning.\n",
      "  FutureWarning)\n",
      "/opt/anaconda3/lib/python3.7/site-packages/sklearn/linear_model/logistic.py:469: FutureWarning: Default multi_class will be changed to 'auto' in 0.22. Specify the multi_class option to silence this warning.\n",
      "  \"this warning.\", FutureWarning)\n",
      "/opt/anaconda3/lib/python3.7/site-packages/sklearn/svm/base.py:929: ConvergenceWarning: Liblinear failed to converge, increase the number of iterations.\n",
      "  \"the number of iterations.\", ConvergenceWarning)\n"
     ]
    },
    {
     "data": {
      "text/plain": [
       "LogisticRegression(C=1.0, class_weight=None, dual=False, fit_intercept=True,\n",
       "                   intercept_scaling=1, l1_ratio=None, max_iter=100,\n",
       "                   multi_class='warn', n_jobs=None, penalty='l2',\n",
       "                   random_state=None, solver='warn', tol=0.0001, verbose=0,\n",
       "                   warm_start=False)"
      ]
     },
     "execution_count": 65,
     "metadata": {},
     "output_type": "execute_result"
    }
   ],
   "source": [
    "log.fit(x,y)"
   ]
  },
  {
   "cell_type": "code",
   "execution_count": 15,
   "metadata": {},
   "outputs": [
    {
     "data": {
      "text/plain": [
       "0.8945205479452055"
      ]
     },
     "execution_count": 15,
     "metadata": {},
     "output_type": "execute_result"
    }
   ],
   "source": [
    "log.coef_\n",
    "log.intercept_\n",
    "log.score(x,y)"
   ]
  },
  {
   "cell_type": "code",
   "execution_count": 112,
   "metadata": {},
   "outputs": [
    {
     "data": {
      "text/html": [
       "<div>\n",
       "<style scoped>\n",
       "    .dataframe tbody tr th:only-of-type {\n",
       "        vertical-align: middle;\n",
       "    }\n",
       "\n",
       "    .dataframe tbody tr th {\n",
       "        vertical-align: top;\n",
       "    }\n",
       "\n",
       "    .dataframe thead th {\n",
       "        text-align: right;\n",
       "    }\n",
       "</style>\n",
       "<table border=\"1\" class=\"dataframe\">\n",
       "  <thead>\n",
       "    <tr style=\"text-align: right;\">\n",
       "      <th></th>\n",
       "      <th>Id</th>\n",
       "      <th>SalePrice</th>\n",
       "    </tr>\n",
       "  </thead>\n",
       "  <tbody>\n",
       "    <tr>\n",
       "      <th>0</th>\n",
       "      <td>1461</td>\n",
       "      <td>147000</td>\n",
       "    </tr>\n",
       "    <tr>\n",
       "      <th>1</th>\n",
       "      <td>1462</td>\n",
       "      <td>157900</td>\n",
       "    </tr>\n",
       "    <tr>\n",
       "      <th>2</th>\n",
       "      <td>1463</td>\n",
       "      <td>185000</td>\n",
       "    </tr>\n",
       "    <tr>\n",
       "      <th>3</th>\n",
       "      <td>1464</td>\n",
       "      <td>162000</td>\n",
       "    </tr>\n",
       "    <tr>\n",
       "      <th>4</th>\n",
       "      <td>1465</td>\n",
       "      <td>189000</td>\n",
       "    </tr>\n",
       "  </tbody>\n",
       "</table>\n",
       "</div>"
      ],
      "text/plain": [
       "     Id  SalePrice\n",
       "0  1461     147000\n",
       "1  1462     157900\n",
       "2  1463     185000\n",
       "3  1464     162000\n",
       "4  1465     189000"
      ]
     },
     "execution_count": 112,
     "metadata": {},
     "output_type": "execute_result"
    }
   ],
   "source": [
    "Answer = log.predict(testX)\n",
    "log_submission = pd.DataFrame( {'Id' : mo.Id, 'SalePrice': Answer })\n",
    "log_submission.head()"
   ]
  },
  {
   "cell_type": "code",
   "execution_count": 113,
   "metadata": {},
   "outputs": [
    {
     "data": {
      "text/plain": [
       "array([147000, 157900, 185000, ..., 178400,  93500, 171000])"
      ]
     },
     "execution_count": 113,
     "metadata": {},
     "output_type": "execute_result"
    }
   ],
   "source": [
    "Answer"
   ]
  },
  {
   "cell_type": "markdown",
   "metadata": {},
   "source": [
    "### Decision Tree"
   ]
  },
  {
   "cell_type": "code",
   "execution_count": 69,
   "metadata": {},
   "outputs": [],
   "source": [
    "from sklearn.tree import DecisionTreeClassifier"
   ]
  },
  {
   "cell_type": "code",
   "execution_count": 70,
   "metadata": {},
   "outputs": [],
   "source": [
    "tree = DecisionTreeClassifier()"
   ]
  },
  {
   "cell_type": "code",
   "execution_count": 71,
   "metadata": {},
   "outputs": [
    {
     "data": {
      "text/plain": [
       "DecisionTreeClassifier(class_weight=None, criterion='gini', max_depth=None,\n",
       "                       max_features=None, max_leaf_nodes=None,\n",
       "                       min_impurity_decrease=0.0, min_impurity_split=None,\n",
       "                       min_samples_leaf=1, min_samples_split=2,\n",
       "                       min_weight_fraction_leaf=0.0, presort=False,\n",
       "                       random_state=None, splitter='best')"
      ]
     },
     "execution_count": 71,
     "metadata": {},
     "output_type": "execute_result"
    }
   ],
   "source": [
    "tree.fit(x,y)"
   ]
  },
  {
   "cell_type": "code",
   "execution_count": 72,
   "metadata": {},
   "outputs": [
    {
     "data": {
      "text/plain": [
       "array([0.02073525, 0.04197112, 0.04475957, 0.02481098, 0.02810896])"
      ]
     },
     "execution_count": 72,
     "metadata": {},
     "output_type": "execute_result"
    }
   ],
   "source": [
    "tree.feature_importances_[:5]"
   ]
  },
  {
   "cell_type": "code",
   "execution_count": 9,
   "metadata": {},
   "outputs": [
    {
     "data": {
      "text/plain": [
       "1.0"
      ]
     },
     "execution_count": 9,
     "metadata": {},
     "output_type": "execute_result"
    }
   ],
   "source": [
    "tree.score(x,y)"
   ]
  },
  {
   "cell_type": "code",
   "execution_count": 77,
   "metadata": {},
   "outputs": [
    {
     "data": {
      "text/html": [
       "<div>\n",
       "<style scoped>\n",
       "    .dataframe tbody tr th:only-of-type {\n",
       "        vertical-align: middle;\n",
       "    }\n",
       "\n",
       "    .dataframe tbody tr th {\n",
       "        vertical-align: top;\n",
       "    }\n",
       "\n",
       "    .dataframe thead th {\n",
       "        text-align: right;\n",
       "    }\n",
       "</style>\n",
       "<table border=\"1\" class=\"dataframe\">\n",
       "  <thead>\n",
       "    <tr style=\"text-align: right;\">\n",
       "      <th></th>\n",
       "      <th>Id</th>\n",
       "      <th>SalePrice</th>\n",
       "    </tr>\n",
       "  </thead>\n",
       "  <tbody>\n",
       "    <tr>\n",
       "      <th>0</th>\n",
       "      <td>1461</td>\n",
       "      <td>147000</td>\n",
       "    </tr>\n",
       "    <tr>\n",
       "      <th>1</th>\n",
       "      <td>1462</td>\n",
       "      <td>207500</td>\n",
       "    </tr>\n",
       "    <tr>\n",
       "      <th>2</th>\n",
       "      <td>1463</td>\n",
       "      <td>180000</td>\n",
       "    </tr>\n",
       "    <tr>\n",
       "      <th>3</th>\n",
       "      <td>1464</td>\n",
       "      <td>200500</td>\n",
       "    </tr>\n",
       "    <tr>\n",
       "      <th>4</th>\n",
       "      <td>1465</td>\n",
       "      <td>189000</td>\n",
       "    </tr>\n",
       "  </tbody>\n",
       "</table>\n",
       "</div>"
      ],
      "text/plain": [
       "     Id  SalePrice\n",
       "0  1461     147000\n",
       "1  1462     207500\n",
       "2  1463     180000\n",
       "3  1464     200500\n",
       "4  1465     189000"
      ]
     },
     "execution_count": 77,
     "metadata": {},
     "output_type": "execute_result"
    }
   ],
   "source": [
    "Answer = tree.predict(testX)\n",
    "Dtree_submission = pd.DataFrame( {'Id' : mo.Id, 'SalePrice': Answer })\n",
    "Dtree_submission.head()"
   ]
  },
  {
   "cell_type": "markdown",
   "metadata": {},
   "source": [
    "### Penalized Linear Regression\n",
    "\n",
    "This is used to add weight to the RSS (model), by minimizing beta"
   ]
  },
  {
   "cell_type": "code",
   "execution_count": 78,
   "metadata": {},
   "outputs": [],
   "source": [
    "from sklearn.linear_model import Ridge, Lasso, ElasticNet"
   ]
  },
  {
   "cell_type": "code",
   "execution_count": 79,
   "metadata": {},
   "outputs": [],
   "source": [
    "ridge = Ridge()\n",
    "lasso = Lasso()\n",
    "net = ElasticNet()"
   ]
  },
  {
   "cell_type": "markdown",
   "metadata": {},
   "source": [
    "#### Visualizing Ridge"
   ]
  },
  {
   "cell_type": "code",
   "execution_count": 80,
   "metadata": {},
   "outputs": [
    {
     "data": {
      "text/plain": [
       "Ridge(alpha=1.0, copy_X=True, fit_intercept=True, max_iter=None,\n",
       "      normalize=False, random_state=None, solver='auto', tol=0.001)"
      ]
     },
     "execution_count": 80,
     "metadata": {},
     "output_type": "execute_result"
    }
   ],
   "source": [
    "ridge.set_params(alpha = 1.0)\n",
    "ridge.fit(x,y)"
   ]
  },
  {
   "cell_type": "code",
   "execution_count": 81,
   "metadata": {},
   "outputs": [
    {
     "data": {
      "text/plain": [
       "0.9109059873189717"
      ]
     },
     "execution_count": 81,
     "metadata": {},
     "output_type": "execute_result"
    }
   ],
   "source": [
    "ridge.score(x,y)"
   ]
  },
  {
   "cell_type": "code",
   "execution_count": 82,
   "metadata": {},
   "outputs": [],
   "source": [
    "coef =[]\n",
    "intercept =[]\n",
    "R2 = []\n",
    "lambda_range = np.linspace(1e-3,200,20)\n",
    "for lambda_ in lambda_range:\n",
    "    ridge.set_params(alpha = lambda_)\n",
    "    ridge.fit(x,y)\n",
    "    intercept.append(ridge.intercept_)\n",
    "    coef.append(ridge.coef_)\n",
    "    R2.append(ridge.score(x,y))"
   ]
  },
  {
   "cell_type": "code",
   "execution_count": 83,
   "metadata": {},
   "outputs": [
    {
     "data": {
      "text/plain": [
       "Text(0.5, 1.0, \"Model's Intercept with increasing weight\")"
      ]
     },
     "execution_count": 83,
     "metadata": {},
     "output_type": "execute_result"
    },
    {
     "data": {
      "image/png": "[encoded data removed]",
      "text/plain": [
       "<Figure size 432x288 with 1 Axes>"
      ]
     },
     "metadata": {
      "needs_background": "light"
     },
     "output_type": "display_data"
    }
   ],
   "source": [
    "plt.plot(lambda_range, intercept)\n",
    "plt.title(\"Model's Intercept with increasing weight\")"
   ]
  },
  {
   "cell_type": "code",
   "execution_count": 84,
   "metadata": {},
   "outputs": [
    {
     "data": {
      "text/plain": [
       "Text(0.5, 1.0, 'Change of Ridge slopes varying alpha')"
      ]
     },
     "execution_count": 84,
     "metadata": {},
     "output_type": "execute_result"
    },
    {
     "data": {
      "image/png": "[encoded data removed]",
      "text/plain": [
       "<Figure size 432x288 with 1 Axes>"
      ]
     },
     "metadata": {
      "needs_background": "light"
     },
     "output_type": "display_data"
    }
   ],
   "source": [
    "coefs = pd.DataFrame(np.array(coef), columns = x.columns)\n",
    "\n",
    "for name in coefs.columns[:20]:\n",
    "    plt.plot(lambda_range, coefs[name], label = name)\n",
    "plt.legend(loc =1)\n",
    "plt.title(\"Change of Ridge slopes varying alpha\")"
   ]
  },
  {
   "cell_type": "code",
   "execution_count": 85,
   "metadata": {},
   "outputs": [
    {
     "data": {
      "text/plain": [
       "Text(0.5, 1.0, 'Change of $R^2$ varying alpha')"
      ]
     },
     "execution_count": 85,
     "metadata": {},
     "output_type": "execute_result"
    },
    {
     "data": {
      "image/png": "[encoded data removed]",
      "text/plain": [
       "<Figure size 432x288 with 1 Axes>"
      ]
     },
     "metadata": {
      "needs_background": "light"
     },
     "output_type": "display_data"
    }
   ],
   "source": [
    "plt.plot(lambda_range, R2)\n",
    "plt.title(\"Change of $R^2$ varying alpha\")"
   ]
  },
  {
   "cell_type": "code",
   "execution_count": 88,
   "metadata": {},
   "outputs": [],
   "source": [
    "train_R2=[]\n",
    "test_R2=[]\n",
    "\n",
    "lambda_range = np.linspace(1e-3,200,20)\n",
    "for lambda_ in lambda_range:\n",
    "    ridge.set_params(alpha = lambda_, normalize = False)\n",
    "    ridge.fit(X_train, Y_train)\n",
    "    train_R2.append(ridge.score(X_train, Y_train))\n",
    "    test_R2.append(ridge.score(X_test, Y_test))"
   ]
  },
  {
   "cell_type": "code",
   "execution_count": 89,
   "metadata": {},
   "outputs": [
    {
     "data": {
      "text/plain": [
       "<matplotlib.legend.Legend at 0x11e30ee10>"
      ]
     },
     "execution_count": 89,
     "metadata": {},
     "output_type": "execute_result"
    },
    {
     "data": {
      "image/png": "[encoded data removed]",
      "text/plain": [
       "<Figure size 432x288 with 1 Axes>"
      ]
     },
     "metadata": {
      "needs_background": "light"
     },
     "output_type": "display_data"
    }
   ],
   "source": [
    "plt.plot(lambda_range, train_R2, label = 'train $R^2$')\n",
    "plt.plot(lambda_range, test_R2, label = 'test $R^2$')\n",
    "plt.title(\"Change of $R^2$ with alpha \")\n",
    "plt.legend(loc = 4)"
   ]
  },
  {
   "cell_type": "code",
   "execution_count": 90,
   "metadata": {},
   "outputs": [
    {
     "name": "stdout",
     "output_type": "stream",
     "text": [
      "The intercept is 30287.2907\n",
      "Slopes are MSSubClass            -80.543282\n",
      "LotFrontage           -20.895000\n",
      "LotArea                 1.021619\n",
      "OverallQual         12457.136281\n",
      "MasVnrArea             26.045797\n",
      "                        ...     \n",
      "GarageFinish_RFn    -4083.277235\n",
      "GarageFinish_Unf    -1373.844440\n",
      "PavedDrive_Paved     4253.904994\n",
      "X2ndFlrYN_Yes       -5431.998529\n",
      "HalfBathYN_Yes       4339.931315\n",
      "Length: 78, dtype: float64\n"
     ]
    }
   ],
   "source": [
    "ridge.set_params(alpha = 25) # alpha set to where the train and test R2 meet\n",
    "ridge.fit(x, y)\n",
    "coefDF = pd.Series(ridge.coef_ , index = x.columns)\n",
    "print('The intercept is %.4f'%(ridge.intercept_) )\n",
    "print('Slopes are %s'%(coefDF))"
   ]
  },
  {
   "cell_type": "markdown",
   "metadata": {},
   "source": [
    "### Visualizing Lasso\n",
    "Lasso function here is very usualful because betas with multicollinearity will be reduced by minimization"
   ]
  },
  {
   "cell_type": "code",
   "execution_count": 91,
   "metadata": {},
   "outputs": [
    {
     "data": {
      "text/plain": [
       "Lasso(alpha=1, copy_X=True, fit_intercept=True, max_iter=1000, normalize=True,\n",
       "      positive=False, precompute=False, random_state=None, selection='cyclic',\n",
       "      tol=0.0001, warm_start=False)"
      ]
     },
     "execution_count": 91,
     "metadata": {},
     "output_type": "execute_result"
    }
   ],
   "source": [
    "lasso.set_params(alpha =1, normalize = True)"
   ]
  },
  {
   "cell_type": "code",
   "execution_count": 92,
   "metadata": {},
   "outputs": [
    {
     "name": "stdout",
     "output_type": "stream",
     "text": [
      "Lasso score is 0.9108\n",
      "Intercept is 30854.2396\n",
      "Slopes: \n",
      "MSSubClass             2.355442\n",
      "LotFrontage          -40.439089\n",
      "LotArea                1.028907\n",
      "OverallQual         9622.530822\n",
      "MasVnrArea            19.069043\n",
      "                       ...     \n",
      "GarageFinish_RFn   -3634.835701\n",
      "GarageFinish_Unf   -1017.312656\n",
      "PavedDrive_Paved    5100.985649\n",
      "X2ndFlrYN_Yes      -8481.774051\n",
      "HalfBathYN_Yes      4864.807808\n",
      "Length: 78, dtype: float64\n"
     ]
    }
   ],
   "source": [
    "lasso.fit(x,y)\n",
    "print('Lasso score is %.4f'%(lasso.score(x,y)) )\n",
    "print('Intercept is %.4f'%(lasso.intercept_) )\n",
    "lasso_coef = pd.Series(lasso.coef_ , index = x.columns)\n",
    "print('Slopes: \\n%s'%(lasso_coef))"
   ]
  },
  {
   "cell_type": "code",
   "execution_count": 93,
   "metadata": {},
   "outputs": [
    {
     "name": "stderr",
     "output_type": "stream",
     "text": [
      "/opt/anaconda3/lib/python3.7/site-packages/sklearn/linear_model/coordinate_descent.py:475: ConvergenceWarning: Objective did not converge. You might want to increase the number of iterations. Duality gap: 2142208400.7615967, tolerance: 848984689.3744539\n",
      "  positive)\n"
     ]
    }
   ],
   "source": [
    "coef = []\n",
    "intercept = []\n",
    "R2 = []\n",
    "\n",
    "lambda_range = np.linspace(1e-3, 250, 20)\n",
    "for lambda_ in lambda_range:\n",
    "    lasso.set_params(alpha = lambda_ , normalize = True)\n",
    "    lasso.fit(x,y)\n",
    "    intercept.append(lasso.intercept_)\n",
    "    coef.append(lasso.coef_)\n",
    "    R2.append(lasso.score(x,y))"
   ]
  },
  {
   "cell_type": "code",
   "execution_count": 94,
   "metadata": {},
   "outputs": [
    {
     "data": {
      "text/plain": [
       "Text(0.5, 1.0, 'Change of Lasso intercept with alpha')"
      ]
     },
     "execution_count": 94,
     "metadata": {},
     "output_type": "execute_result"
    },
    {
     "data": {
      "image/png": "[encoded data removed]",
      "text/plain": [
       "<Figure size 432x288 with 1 Axes>"
      ]
     },
     "metadata": {
      "needs_background": "light"
     },
     "output_type": "display_data"
    }
   ],
   "source": [
    "plt.plot(lambda_range, intercept)\n",
    "plt.title('Change of Lasso intercept with alpha')"
   ]
  },
  {
   "cell_type": "code",
   "execution_count": 95,
   "metadata": {},
   "outputs": [
    {
     "data": {
      "text/plain": [
       "Text(0.5, 1.0, 'Change of Lasso Slopes with alpha')"
      ]
     },
     "execution_count": 95,
     "metadata": {},
     "output_type": "execute_result"
    },
    {
     "data": {
      "image/png": "[encoded data removed]",
      "text/plain": [
       "<Figure size 432x288 with 1 Axes>"
      ]
     },
     "metadata": {
      "needs_background": "light"
     },
     "output_type": "display_data"
    }
   ],
   "source": [
    "coefs = pd.DataFrame(np.array(coef), columns = x.columns)\n",
    "\n",
    "for name in coefs.columns[:20]:\n",
    "    plt.plot(lambda_range, coefs[name], label = name)\n",
    "plt.legend(loc =1)\n",
    "plt.title('Change of Lasso Slopes with alpha')"
   ]
  },
  {
   "cell_type": "code",
   "execution_count": 96,
   "metadata": {},
   "outputs": [
    {
     "name": "stderr",
     "output_type": "stream",
     "text": [
      "/opt/anaconda3/lib/python3.7/site-packages/sklearn/linear_model/coordinate_descent.py:475: ConvergenceWarning: Objective did not converge. You might want to increase the number of iterations. Duality gap: 262446462780.5586, tolerance: 590048344.3401589\n",
      "  positive)\n",
      "/opt/anaconda3/lib/python3.7/site-packages/sklearn/linear_model/coordinate_descent.py:475: ConvergenceWarning: Objective did not converge. You might want to increase the number of iterations. Duality gap: 44352461002.27057, tolerance: 590048344.3401589\n",
      "  positive)\n",
      "/opt/anaconda3/lib/python3.7/site-packages/sklearn/linear_model/coordinate_descent.py:475: ConvergenceWarning: Objective did not converge. You might want to increase the number of iterations. Duality gap: 1398508644.041626, tolerance: 590048344.3401589\n",
      "  positive)\n",
      "/opt/anaconda3/lib/python3.7/site-packages/sklearn/linear_model/coordinate_descent.py:475: ConvergenceWarning: Objective did not converge. You might want to increase the number of iterations. Duality gap: 993821995.9035034, tolerance: 590048344.3401589\n",
      "  positive)\n",
      "/opt/anaconda3/lib/python3.7/site-packages/sklearn/linear_model/coordinate_descent.py:475: ConvergenceWarning: Objective did not converge. You might want to increase the number of iterations. Duality gap: 963475717.3088379, tolerance: 590048344.3401589\n",
      "  positive)\n",
      "/opt/anaconda3/lib/python3.7/site-packages/sklearn/linear_model/coordinate_descent.py:475: ConvergenceWarning: Objective did not converge. You might want to increase the number of iterations. Duality gap: 896151605.539856, tolerance: 590048344.3401589\n",
      "  positive)\n",
      "/opt/anaconda3/lib/python3.7/site-packages/sklearn/linear_model/coordinate_descent.py:475: ConvergenceWarning: Objective did not converge. You might want to increase the number of iterations. Duality gap: 857840107.3530273, tolerance: 590048344.3401589\n",
      "  positive)\n",
      "/opt/anaconda3/lib/python3.7/site-packages/sklearn/linear_model/coordinate_descent.py:475: ConvergenceWarning: Objective did not converge. You might want to increase the number of iterations. Duality gap: 828695909.0552979, tolerance: 590048344.3401589\n",
      "  positive)\n",
      "/opt/anaconda3/lib/python3.7/site-packages/sklearn/linear_model/coordinate_descent.py:475: ConvergenceWarning: Objective did not converge. You might want to increase the number of iterations. Duality gap: 804692097.2940063, tolerance: 590048344.3401589\n",
      "  positive)\n",
      "/opt/anaconda3/lib/python3.7/site-packages/sklearn/linear_model/coordinate_descent.py:475: ConvergenceWarning: Objective did not converge. You might want to increase the number of iterations. Duality gap: 787542119.1785278, tolerance: 590048344.3401589\n",
      "  positive)\n",
      "/opt/anaconda3/lib/python3.7/site-packages/sklearn/linear_model/coordinate_descent.py:475: ConvergenceWarning: Objective did not converge. You might want to increase the number of iterations. Duality gap: 761650699.532898, tolerance: 590048344.3401589\n",
      "  positive)\n",
      "/opt/anaconda3/lib/python3.7/site-packages/sklearn/linear_model/coordinate_descent.py:475: ConvergenceWarning: Objective did not converge. You might want to increase the number of iterations. Duality gap: 749921206.357666, tolerance: 590048344.3401589\n",
      "  positive)\n",
      "/opt/anaconda3/lib/python3.7/site-packages/sklearn/linear_model/coordinate_descent.py:475: ConvergenceWarning: Objective did not converge. You might want to increase the number of iterations. Duality gap: 693929249.8898926, tolerance: 590048344.3401589\n",
      "  positive)\n",
      "/opt/anaconda3/lib/python3.7/site-packages/sklearn/linear_model/coordinate_descent.py:475: ConvergenceWarning: Objective did not converge. You might want to increase the number of iterations. Duality gap: 618889510.7098389, tolerance: 590048344.3401589\n",
      "  positive)\n",
      "/opt/anaconda3/lib/python3.7/site-packages/sklearn/linear_model/coordinate_descent.py:475: ConvergenceWarning: Objective did not converge. You might want to increase the number of iterations. Duality gap: 852649678.2105713, tolerance: 590048344.3401589\n",
      "  positive)\n"
     ]
    }
   ],
   "source": [
    "train_R2=[]\n",
    "test_R2=[]\n",
    "\n",
    "lambda_range = np.linspace(1e-3,200,20)\n",
    "for lambda_ in lambda_range:\n",
    "    lasso.set_params(alpha = lambda_ , normalize = False)\n",
    "    lasso.fit(X_train, Y_train)\n",
    "    train_R2.append(lasso.score(X_train, Y_train))\n",
    "    test_R2.append(lasso.score(X_test, Y_test))"
   ]
  },
  {
   "cell_type": "code",
   "execution_count": 97,
   "metadata": {},
   "outputs": [
    {
     "data": {
      "text/plain": [
       "Text(0.5, 1.0, '$R^2$ with alpha')"
      ]
     },
     "execution_count": 97,
     "metadata": {},
     "output_type": "execute_result"
    },
    {
     "data": {
      "image/png": "[encoded data removed]",
      "text/plain": [
       "<Figure size 432x288 with 1 Axes>"
      ]
     },
     "metadata": {
      "needs_background": "light"
     },
     "output_type": "display_data"
    }
   ],
   "source": [
    "plt.plot(lambda_range, train_R2, label=r'train set $R^2$')\n",
    "plt.plot(lambda_range, test_R2, label=r'test set $R^2$')\n",
    "plt.legend(loc=4)\n",
    "plt.title('$R^2$ with alpha')"
   ]
  },
  {
   "cell_type": "code",
   "execution_count": 103,
   "metadata": {},
   "outputs": [
    {
     "name": "stderr",
     "output_type": "stream",
     "text": [
      "/opt/anaconda3/lib/python3.7/site-packages/sklearn/linear_model/coordinate_descent.py:475: ConvergenceWarning: Objective did not converge. You might want to increase the number of iterations. Duality gap: 56022017682.04169, tolerance: 848984689.3744539\n",
      "  positive)\n"
     ]
    },
    {
     "data": {
      "text/plain": [
       "Lasso(alpha=0.00013, copy_X=True, fit_intercept=True, max_iter=1000,\n",
       "      normalize=True, positive=False, precompute=False, random_state=None,\n",
       "      selection='cyclic', tol=0.0001, warm_start=False)"
      ]
     },
     "execution_count": 103,
     "metadata": {},
     "output_type": "execute_result"
    }
   ],
   "source": [
    "lasso.set_params(alpha = 0.00013, normalize = True)\n",
    "lasso.fit(x,y)"
   ]
  },
  {
   "cell_type": "code",
   "execution_count": 135,
   "metadata": {},
   "outputs": [
    {
     "data": {
      "text/html": [
       "<div>\n",
       "<style scoped>\n",
       "    .dataframe tbody tr th:only-of-type {\n",
       "        vertical-align: middle;\n",
       "    }\n",
       "\n",
       "    .dataframe tbody tr th {\n",
       "        vertical-align: top;\n",
       "    }\n",
       "\n",
       "    .dataframe thead th {\n",
       "        text-align: right;\n",
       "    }\n",
       "</style>\n",
       "<table border=\"1\" class=\"dataframe\">\n",
       "  <thead>\n",
       "    <tr style=\"text-align: right;\">\n",
       "      <th></th>\n",
       "      <th>Id</th>\n",
       "      <th>SalePrice</th>\n",
       "    </tr>\n",
       "  </thead>\n",
       "  <tbody>\n",
       "    <tr>\n",
       "      <th>0</th>\n",
       "      <td>1461</td>\n",
       "      <td>121481.789318</td>\n",
       "    </tr>\n",
       "    <tr>\n",
       "      <th>1</th>\n",
       "      <td>1462</td>\n",
       "      <td>171429.299451</td>\n",
       "    </tr>\n",
       "    <tr>\n",
       "      <th>2</th>\n",
       "      <td>1463</td>\n",
       "      <td>179517.583290</td>\n",
       "    </tr>\n",
       "    <tr>\n",
       "      <th>3</th>\n",
       "      <td>1464</td>\n",
       "      <td>193112.579038</td>\n",
       "    </tr>\n",
       "    <tr>\n",
       "      <th>4</th>\n",
       "      <td>1465</td>\n",
       "      <td>211238.206533</td>\n",
       "    </tr>\n",
       "  </tbody>\n",
       "</table>\n",
       "</div>"
      ],
      "text/plain": [
       "     Id      SalePrice\n",
       "0  1461  121481.789318\n",
       "1  1462  171429.299451\n",
       "2  1463  179517.583290\n",
       "3  1464  193112.579038\n",
       "4  1465  211238.206533"
      ]
     },
     "execution_count": 135,
     "metadata": {},
     "output_type": "execute_result"
    }
   ],
   "source": [
    "lasso_answer = lasso.predict(testX)\n",
    "lasso_df = pd.DataFrame( data = lasso_answer, columns = ['SalePrice'])\n",
    "lasso_submission = pd.concat( [mo.Id, lasso_df], axis = 1 )\n",
    "lasso_submission.head(5)"
   ]
  },
  {
   "cell_type": "code",
   "execution_count": 105,
   "metadata": {},
   "outputs": [
    {
     "data": {
      "text/plain": [
       "array([121481.78931766, 171429.29945126, 179517.5832897 , ...,\n",
       "       169499.72794255, 117077.338132  , 220044.15950633])"
      ]
     },
     "execution_count": 105,
     "metadata": {},
     "output_type": "execute_result"
    }
   ],
   "source": [
    "lasso_answer"
   ]
  },
  {
   "cell_type": "markdown",
   "metadata": {},
   "source": [
    "### Visualizing ElasticNet"
   ]
  },
  {
   "cell_type": "code",
   "execution_count": 111,
   "metadata": {},
   "outputs": [],
   "source": [
    "lambda_size = 40\n",
    "rho_size = 30\n",
    "lambda_range = np.linspace(1e-2, 200, lambda_size)\n",
    "rho_range = np.linspace(0.01, 1, rho_size)\n",
    "\n",
    "trainR2 = np.zeros( (lambda_size, rho_size) )\n",
    "testR2 = np.zeros( (lambda_size, rho_size) )\n",
    "intercepts = np.zeros( (lambda_size, rho_size) )\n",
    "coefs = np.zeros( (lambda_size, rho_size) )"
   ]
  },
  {
   "cell_type": "code",
   "execution_count": 112,
   "metadata": {},
   "outputs": [
    {
     "name": "stderr",
     "output_type": "stream",
     "text": [
      "/opt/anaconda3/lib/python3.7/site-packages/sklearn/linear_model/coordinate_descent.py:475: ConvergenceWarning: Objective did not converge. You might want to increase the number of iterations. Duality gap: 36393876449.79083, tolerance: 608125896.8479782\n",
      "  positive)\n"
     ]
    }
   ],
   "source": [
    "net.set_params(normalize = True)\n",
    "\n",
    "for lambda_i, lambda_ in enumerate(lambda_range):\n",
    "    for rho_i, rho in enumerate(rho_range):\n",
    "        net.set_params(alpha =lambda_ , l1_ratio = rho)\n",
    "        net.fit(trainX, trainY)\n",
    "        trainR2[lambda_i, rho_i] = net.score(trainX , trainY)\n",
    "        testR2[lambda_i, rho_i] = net.score(testX, testY)\n",
    "        intercepts[lambda_i, rho_i] = net.intercept_\n",
    "        coefs = net.coef_"
   ]
  },
  {
   "cell_type": "code",
   "execution_count": 113,
   "metadata": {},
   "outputs": [
    {
     "data": {
      "text/plain": [
       "<matplotlib.colorbar.Colorbar at 0x126d58bd0>"
      ]
     },
     "execution_count": 113,
     "metadata": {},
     "output_type": "execute_result"
    },
    {
     "data": {
      "image/png": "[encoded data removed]",
      "text/plain": [
       "<Figure size 432x288 with 2 Axes>"
      ]
     },
     "metadata": {
      "needs_background": "light"
     },
     "output_type": "display_data"
    }
   ],
   "source": [
    "from mpl_toolkits.mplot3d import Axes3D\n",
    "from matplotlib.ticker import LinearLocator, FormatStrFormatter\n",
    "from matplotlib import cm\n",
    "\n",
    "fig = plt.figure()\n",
    "ax = fig.gca(projection='3d')\n",
    "\n",
    "# Make data\n",
    "\n",
    "x = lambda_range\n",
    "y = rho_range\n",
    "X, Y = np.meshgrid(x, y)\n",
    "Z = (trainR2-testR2).T\n",
    "# Plot the surface\n",
    "surf = ax.plot_surface(X, Y, Z, cmap=cm.coolwarm, linewidth=0, antialiased=False)\n",
    "ax.set_zlim(np.min(Z) - 0.01, np.max(Z) + 0.01)\n",
    "ax.view_init(30, 100)\n",
    "ax.zaxis.set_major_locator(LinearLocator(10))\n",
    "ax.zaxis.set_major_formatter(FormatStrFormatter('%.02f'))\n",
    "plt.title(r'3D plot of ElasticNet coef of determination $R^2$')\n",
    "# Add a color bar which maps values to colors.\n",
    "fig.colorbar(surf, shrink=0.5, aspect=10)"
   ]
  },
  {
   "cell_type": "markdown",
   "metadata": {},
   "source": [
    "# XGBoost"
   ]
  },
  {
   "cell_type": "code",
   "execution_count": 137,
   "metadata": {},
   "outputs": [],
   "source": [
    "from xgboost import XGBClassifier"
   ]
  },
  {
   "cell_type": "code",
   "execution_count": 139,
   "metadata": {},
   "outputs": [],
   "source": [
    "xgb = XGBClassifier()"
   ]
  },
  {
   "cell_type": "code",
   "execution_count": 140,
   "metadata": {},
   "outputs": [
    {
     "data": {
      "text/plain": [
       "XGBClassifier(base_score=0.5, booster=None, colsample_bylevel=1,\n",
       "              colsample_bynode=1, colsample_bytree=1, gamma=0, gpu_id=-1,\n",
       "              importance_type='gain', interaction_constraints=None,\n",
       "              learning_rate=0.300000012, max_delta_step=0, max_depth=6,\n",
       "              min_child_weight=1, missing=nan, monotone_constraints=None,\n",
       "              n_estimators=100, n_jobs=0, num_parallel_tree=1,\n",
       "              objective='multi:softprob', random_state=0, reg_alpha=0,\n",
       "              reg_lambda=1, scale_pos_weight=None, subsample=1,\n",
       "              tree_method=None, validate_parameters=False, verbosity=None)"
      ]
     },
     "execution_count": 140,
     "metadata": {},
     "output_type": "execute_result"
    }
   ],
   "source": [
    "xgb.fit(x,y) #Trained using dummified data"
   ]
  },
  {
   "cell_type": "code",
   "execution_count": null,
   "metadata": {},
   "outputs": [],
   "source": [
    "xg_answer = xgb.predict(testX)"
   ]
  },
  {
   "cell_type": "code",
   "execution_count": 141,
   "metadata": {
    "scrolled": true
   },
   "outputs": [
    {
     "data": {
      "text/html": [
       "<div>\n",
       "<style scoped>\n",
       "    .dataframe tbody tr th:only-of-type {\n",
       "        vertical-align: middle;\n",
       "    }\n",
       "\n",
       "    .dataframe tbody tr th {\n",
       "        vertical-align: top;\n",
       "    }\n",
       "\n",
       "    .dataframe thead th {\n",
       "        text-align: right;\n",
       "    }\n",
       "</style>\n",
       "<table border=\"1\" class=\"dataframe\">\n",
       "  <thead>\n",
       "    <tr style=\"text-align: right;\">\n",
       "      <th></th>\n",
       "      <th>Id</th>\n",
       "      <th>SalePrice</th>\n",
       "    </tr>\n",
       "  </thead>\n",
       "  <tbody>\n",
       "    <tr>\n",
       "      <th>0</th>\n",
       "      <td>1461</td>\n",
       "      <td>129000</td>\n",
       "    </tr>\n",
       "    <tr>\n",
       "      <th>1</th>\n",
       "      <td>1462</td>\n",
       "      <td>157900</td>\n",
       "    </tr>\n",
       "    <tr>\n",
       "      <th>2</th>\n",
       "      <td>1463</td>\n",
       "      <td>173000</td>\n",
       "    </tr>\n",
       "    <tr>\n",
       "      <th>3</th>\n",
       "      <td>1464</td>\n",
       "      <td>181000</td>\n",
       "    </tr>\n",
       "    <tr>\n",
       "      <th>4</th>\n",
       "      <td>1465</td>\n",
       "      <td>212000</td>\n",
       "    </tr>\n",
       "  </tbody>\n",
       "</table>\n",
       "</div>"
      ],
      "text/plain": [
       "     Id  SalePrice\n",
       "0  1461     129000\n",
       "1  1462     157900\n",
       "2  1463     173000\n",
       "3  1464     181000\n",
       "4  1465     212000"
      ]
     },
     "execution_count": 141,
     "metadata": {},
     "output_type": "execute_result"
    }
   ],
   "source": [
    "xg_df = pd.DataFrame( data = xg_answer, columns = ['SalePrice'])\n",
    "xg_submission = pd.concat( [mo.Id, xg_df], axis = 1 )\n",
    "xg_submission.head()"
   ]
  },
  {
   "cell_type": "code",
   "execution_count": 144,
   "metadata": {},
   "outputs": [],
   "source": [
    "drop = ['Id','SalePrice']\n",
    "#Cleaned training\n",
    "x = r_df.drop(drop,axis =1)\n",
    "y = r_df.SalePrice\n",
    "#Cleaned test\n",
    "testX = r_mo.drop(['Id'], axis = 1)"
   ]
  }
 ],
 "metadata": {
  "kernelspec": {
   "display_name": "Python 3",
   "language": "python",
   "name": "python3"
  },
  "language_info": {
   "codemirror_mode": {
    "name": "ipython",
    "version": 3
   },
   "file_extension": ".py",
   "mimetype": "text/x-python",
   "name": "python",
   "nbconvert_exporter": "python",
   "pygments_lexer": "ipython3",
   "version": "3.7.4"
  }
 },
 "nbformat": 4,
 "nbformat_minor": 2
}
