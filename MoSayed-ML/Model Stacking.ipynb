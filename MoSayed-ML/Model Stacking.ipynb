{
 "cells": [
  {
   "cell_type": "markdown",
   "metadata": {},
   "source": [
    "## Iowa Housing Prices\n",
    "\n",
    "Team Name: Drop a Feature Like its Hot\n",
    "\n",
    "Team Members:\n",
    "- Mohamad Sayed\n",
    "- Andrew Hoffman\n",
    "- Yasuhiro Shinohara\n"
   ]
  },
  {
   "cell_type": "markdown",
   "metadata": {},
   "source": [
    "#### Importing packages"
   ]
  },
  {
   "cell_type": "code",
   "execution_count": 2,
   "metadata": {},
   "outputs": [],
   "source": [
    "import pandas as pd\n",
    "import numpy as np\n",
    "\n",
    "from sklearn.model_selection import KFold, cross_val_score, StratifiedKFold \n",
    "from sklearn.model_selection import train_test_split\n",
    "from sklearn.model_selection import GridSearchCV, RandomizedSearchCV\n",
    "import sklearn.model_selection as ms\n",
    "from sklearn.metrics import r2_score, mean_squared_error, mean_squared_error, make_scorer"
   ]
  },
  {
   "cell_type": "code",
   "execution_count": 3,
   "metadata": {},
   "outputs": [],
   "source": [
    "df_test = pd.read_csv(\"output_df_test.csv\")\n",
    "df_train = pd.read_csv(\"output_df_train.csv\")"
   ]
  },
  {
   "cell_type": "code",
   "execution_count": 4,
   "metadata": {},
   "outputs": [],
   "source": [
    "# Drop Id column\n",
    "df_test_Id = pd.read_csv(\"output_df_test.csv\").Id\n",
    "df_train = df_train.drop('Id', axis = 1)\n",
    "df_test = df_test.drop('Id', axis = 1)\n",
    "\n",
    "# Dummify columns\n",
    "df_train = pd.get_dummies(df_train, drop_first = True)\n",
    "df_test = pd.get_dummies(df_test, drop_first = True)\n",
    "\n",
    "# Splitting SalePrice from train set; X without SalePrice and Y is only SalePrice of train set\n",
    "X = df_train.loc[:, df_train.columns !='SalePrice']\n",
    "Y = np.log(df_train[['SalePrice']])\n",
    "\n",
    "# Split the train and test data sets\n",
    "X_train, X_test, Y_train, Y_test = train_test_split(X, Y, test_size = 0.2, random_state = 1)\n",
    "\n",
    "#  Cross validation for 5-folds\n",
    "cv5 = KFold(n_splits = 5, random_state = 1, shuffle = True)\n",
    "\n"
   ]
  },
  {
   "cell_type": "code",
   "execution_count": 8,
   "metadata": {},
   "outputs": [
    {
     "data": {
      "text/plain": [
       "array([112062.25564032, 155046.5319203 , 173374.96375464, ...,\n",
       "       176998.5295293 , 116030.53484114, 232074.54089465])"
      ]
     },
     "execution_count": 8,
     "metadata": {},
     "output_type": "execute_result"
    }
   ],
   "source": [
    "# Lasso & Ridge\n",
    "from sklearn.linear_model import Ridge, Lasso\n",
    "\n",
    "# # Ridge\n",
    "# ridge = Ridge()\n",
    "# ridge.set_params(alpha = -12, normalize = True)\n",
    "# ridge.fit(x,y)\n",
    "# ridge_answer = np.expm1( ridge.predict(testX) ) # UNRELIABLE!!!\n",
    "\n",
    "# Lasso\n",
    "lasso = Lasso()\n",
    "lasso.set_params(alpha = 0.000236, normalize = True)\n",
    "lasso.fit(X,Y)\n",
    "lasso_answer = np.expm1(lasso.predict(df_test) ) # Very Good!\n",
    "lasso_answer"
   ]
  },
  {
   "cell_type": "code",
   "execution_count": 7,
   "metadata": {},
   "outputs": [
    {
     "name": "stdout",
     "output_type": "stream",
     "text": [
      "[21:14:17] WARNING: src/objective/regression_obj.cu:152: reg:linear is now deprecated in favor of reg:squarederror.\n",
      "[21:16:11] WARNING: src/objective/regression_obj.cu:152: reg:linear is now deprecated in favor of reg:squarederror.\n"
     ]
    },
    {
     "data": {
      "text/plain": [
       "array([11.690207, 11.96529 , 12.139521, ..., 11.980239, 11.674996,\n",
       "       12.352296], dtype=float32)"
      ]
     },
     "execution_count": 7,
     "metadata": {},
     "output_type": "execute_result"
    }
   ],
   "source": [
    "# Xgboost\n",
    "from xgboost import XGBRegressor, XGBClassifier\n",
    "\n",
    "xgb = XGBRegressor()\n",
    "xgb.set_params(random_state = 123)\n",
    "xgb.fit(X, Y)\n",
    "\n",
    "xgb_param_grid = {'learning_rate' : [0.01, 0.02, 0.03, 0.04, 0.05, 0.06, 0.07, 0.08, 0.09, 0.1],\n",
    "                           'n_estimators' : range(500, 1000, 50),\n",
    "                            'max_depth' : range(2,6),\n",
    "                            'min_child_weight' : range(4,8)\n",
    "                           }\n",
    "\n",
    "random_search_xgb_5 = RandomizedSearchCV(xgb, xgb_param_grid, scoring='neg_mean_squared_error', \n",
    "                                     cv= cv5, n_jobs=-1, return_train_score = True)\n",
    "\n",
    "random_search_xgb_5.fit(X, Y)\n",
    "\n",
    "xgb_random5 = random_search_xgb_5.best_estimator_\n",
    "\n",
    "xgb_prediction_random = xgb_random5.predict(X_test)\n",
    "\n",
    "xgb_ytest = xgb_random5.predict(df_test)\n",
    "\n",
    "xgb_ytest"
   ]
  },
  {
   "cell_type": "code",
   "execution_count": 25,
   "metadata": {},
   "outputs": [
    {
     "data": {
      "text/html": [
       "<div>\n",
       "<style scoped>\n",
       "    .dataframe tbody tr th:only-of-type {\n",
       "        vertical-align: middle;\n",
       "    }\n",
       "\n",
       "    .dataframe tbody tr th {\n",
       "        vertical-align: top;\n",
       "    }\n",
       "\n",
       "    .dataframe thead th {\n",
       "        text-align: right;\n",
       "    }\n",
       "</style>\n",
       "<table border=\"1\" class=\"dataframe\">\n",
       "  <thead>\n",
       "    <tr style=\"text-align: right;\">\n",
       "      <th></th>\n",
       "      <th>Id</th>\n",
       "      <th>SalePrice</th>\n",
       "    </tr>\n",
       "  </thead>\n",
       "  <tbody>\n",
       "    <tr>\n",
       "      <th>1248</th>\n",
       "      <td>2709</td>\n",
       "      <td>108593.574493</td>\n",
       "    </tr>\n",
       "    <tr>\n",
       "      <th>21</th>\n",
       "      <td>1482</td>\n",
       "      <td>210242.850952</td>\n",
       "    </tr>\n",
       "    <tr>\n",
       "      <th>503</th>\n",
       "      <td>1964</td>\n",
       "      <td>109008.898911</td>\n",
       "    </tr>\n",
       "    <tr>\n",
       "      <th>532</th>\n",
       "      <td>1993</td>\n",
       "      <td>178079.319377</td>\n",
       "    </tr>\n",
       "    <tr>\n",
       "      <th>468</th>\n",
       "      <td>1929</td>\n",
       "      <td>115385.116211</td>\n",
       "    </tr>\n",
       "    <tr>\n",
       "      <th>632</th>\n",
       "      <td>2093</td>\n",
       "      <td>116834.977227</td>\n",
       "    </tr>\n",
       "    <tr>\n",
       "      <th>283</th>\n",
       "      <td>1744</td>\n",
       "      <td>302004.539387</td>\n",
       "    </tr>\n",
       "    <tr>\n",
       "      <th>922</th>\n",
       "      <td>2383</td>\n",
       "      <td>203194.369088</td>\n",
       "    </tr>\n",
       "    <tr>\n",
       "      <th>406</th>\n",
       "      <td>1867</td>\n",
       "      <td>232826.254469</td>\n",
       "    </tr>\n",
       "    <tr>\n",
       "      <th>1360</th>\n",
       "      <td>2821</td>\n",
       "      <td>122615.594422</td>\n",
       "    </tr>\n",
       "  </tbody>\n",
       "</table>\n",
       "</div>"
      ],
      "text/plain": [
       "        Id      SalePrice\n",
       "1248  2709  108593.574493\n",
       "21    1482  210242.850952\n",
       "503   1964  109008.898911\n",
       "532   1993  178079.319377\n",
       "468   1929  115385.116211\n",
       "632   2093  116834.977227\n",
       "283   1744  302004.539387\n",
       "922   2383  203194.369088\n",
       "406   1867  232826.254469\n",
       "1360  2821  122615.594422"
      ]
     },
     "execution_count": 25,
     "metadata": {},
     "output_type": "execute_result"
    }
   ],
   "source": [
    "# Stacking Lasso & Xgboost\n",
    "\n",
    "df_test_Id = pd.read_csv(\"output_df_test.csv\").Id\n",
    "stacked_model = pd.DataFrame(data = ((0.5 * lasso_answer) + (0.5 * np.expm1(xgb_ytest))), columns = ['SalePrice'])\n",
    "\n",
    "stacked_model = pd.concat([df_test_Id, stacked_model], axis = 1)\n",
    "stacked_model.sample(10)"
   ]
  },
  {
   "cell_type": "code",
   "execution_count": 26,
   "metadata": {},
   "outputs": [],
   "source": [
    "stacked_model.to_csv('stacked_SalePrice.csv', index = False)"
   ]
  },
  {
   "cell_type": "markdown",
   "metadata": {},
   "source": [
    "Kaggle Score: mse = 0.136"
   ]
  },
  {
   "cell_type": "markdown",
   "metadata": {},
   "source": [
    "##### Comparing Lasso to Xgboost "
   ]
  },
  {
   "cell_type": "code",
   "execution_count": 38,
   "metadata": {},
   "outputs": [],
   "source": [
    "%matplotlib inline\n",
    "import matplotlib.pyplot as plt"
   ]
  },
  {
   "cell_type": "code",
   "execution_count": 34,
   "metadata": {},
   "outputs": [],
   "source": [
    "# Creating DataFrame for each of Lasso & Xgboost SalePrice\n",
    "xgboost_SalePrice = pd.DataFrame(np.expm1(xgb_ytest), columns = ['XGB_SalePrice'])\n",
    "lasso_SalePrice = pd.DataFrame(lasso_answer, columns = ['Lasso_SalePrice'])\n",
    "plot_lasso_xgboost = pd.concat([lasso_SalePrice, xgboost_SalePrice], axis = 1)"
   ]
  },
  {
   "cell_type": "code",
   "execution_count": 49,
   "metadata": {},
   "outputs": [
    {
     "name": "stderr",
     "output_type": "stream",
     "text": [
      "No handles with labels found to put in legend.\n"
     ]
    },
    {
     "data": {
      "image/png": "[encoded data removed]",
      "text/plain": [
       "<Figure size 864x576 with 1 Axes>"
      ]
     },
     "metadata": {
      "needs_background": "light"
     },
     "output_type": "display_data"
    }
   ],
   "source": [
    "plt.figure(figsize = (12,8))\n",
    "plt.scatter(np.expm1(xgb_ytest), lasso_answer, c='Red', s=16, marker=\"x\")\n",
    "\n",
    "plt.title(\"Xgboost vs Lasso Prediction Plot\", fontsize = 20)\n",
    "\n",
    "plt.xlabel(\"Xgboost Predicted SalePrice\", fontsize = 15)\n",
    "plt.ylabel(\"Lassso Predicted SalePrice\", fontsize = 15)\n",
    "\n",
    "plt.xlim(0, 700000)\n",
    "plt.ylim(0, 700000)\n",
    "plt.legend(loc = \"center right\")\n",
    "plt.plot([0, 700000], [0, 700000], c = \"grey\")\n",
    "plt.show()"
   ]
  }
 ],
 "metadata": {
  "kernelspec": {
   "display_name": "Python 3",
   "language": "python",
   "name": "python3"
  },
  "language_info": {
   "codemirror_mode": {
    "name": "ipython",
    "version": 3
   },
   "file_extension": ".py",
   "mimetype": "text/x-python",
   "name": "python",
   "nbconvert_exporter": "python",
   "pygments_lexer": "ipython3",
   "version": "3.7.3"
  }
 },
 "nbformat": 4,
 "nbformat_minor": 2
}
